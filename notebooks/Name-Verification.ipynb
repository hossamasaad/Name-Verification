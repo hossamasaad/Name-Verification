{
  "cells": [
    {
      "cell_type": "markdown",
      "metadata": {
        "id": "i72Ylsa0K_YW"
      },
      "source": [
        "# Name Verification \n",
        "\n",
        "In this notebook I will work with data combine, preprocess, explore and generate the final dataset to train the model, train the model and try predict method"
      ]
    },
    {
      "cell_type": "markdown",
      "metadata": {
        "id": "wsGqQwfbK_Yf"
      },
      "source": [
        "## 1. Importing Packages"
      ]
    },
    {
      "cell_type": "code",
      "execution_count": 2,
      "metadata": {
        "id": "8T-rXywOK_Yg"
      },
      "outputs": [],
      "source": [
        "import os\n",
        "import sys\n",
        "import joblib\n",
        "import pandas as pd\n",
        "\n",
        "sys.path.append(os.path.realpath('..'))\n",
        "\n",
        "from sklearn.model_selection import train_test_split\n",
        "from tensorflow.keras.callbacks import EarlyStopping, CSVLogger\n",
        "from src import( Preprocess,\n",
        "                 Explorer,\n",
        "                 Visualizer,\n",
        "                 DataGenerator,\n",
        "                 Tokenizer,\n",
        "                 Evaluator,\n",
        "                 VerificationModel, \n",
        "                 DetectOverFitting,\n",
        "                 Prediction )"
      ]
    },
    {
      "cell_type": "markdown",
      "metadata": {
        "id": "F2yBQw6lK_Yi"
      },
      "source": [
        "## 2. Dataset"
      ]
    },
    {
      "cell_type": "markdown",
      "metadata": {
        "id": "J7lx2wV0K_Yj"
      },
      "source": [
        "### 2.1. Load Data"
      ]
    },
    {
      "cell_type": "markdown",
      "metadata": {
        "id": "_9JPcylAK_Yj"
      },
      "source": [
        "I have 3 dataset\n",
        "1. `Arabic_names.csv`: contains males and females names\n",
        "2. `fnames.txt`: contains females names only\n",
        "3. `mnames.txt`: contains males names only "
      ]
    },
    {
      "cell_type": "code",
      "execution_count": null,
      "metadata": {
        "id": "l2mdpnhVK_Yk"
      },
      "outputs": [],
      "source": [
        "# define paths\n",
        "data1_path = '../data/raw/Arabic_names.csv'\n",
        "data2_path = '../data/raw/fnames.txt'\n",
        "data3_path = '../data/raw/mnames.txt'\n",
        "\n",
        "preprocess = Preprocess()"
      ]
    },
    {
      "cell_type": "code",
      "execution_count": null,
      "metadata": {
        "id": "hJ_2hgPIK_Yl",
        "outputId": "90fdf1fb-8f39-4cc2-8bf8-744aaa5e542d"
      },
      "outputs": [
        {
          "data": {
            "text/html": [
              "<div>\n",
              "<style scoped>\n",
              "    .dataframe tbody tr th:only-of-type {\n",
              "        vertical-align: middle;\n",
              "    }\n",
              "\n",
              "    .dataframe tbody tr th {\n",
              "        vertical-align: top;\n",
              "    }\n",
              "\n",
              "    .dataframe thead th {\n",
              "        text-align: right;\n",
              "    }\n",
              "</style>\n",
              "<table border=\"1\" class=\"dataframe\">\n",
              "  <thead>\n",
              "    <tr style=\"text-align: right;\">\n",
              "      <th></th>\n",
              "      <th>Name</th>\n",
              "      <th>Gender</th>\n",
              "    </tr>\n",
              "  </thead>\n",
              "  <tbody>\n",
              "    <tr>\n",
              "      <th>0</th>\n",
              "      <td>ابتسام</td>\n",
              "      <td>F</td>\n",
              "    </tr>\n",
              "    <tr>\n",
              "      <th>1</th>\n",
              "      <td>ابتهاج</td>\n",
              "      <td>F</td>\n",
              "    </tr>\n",
              "    <tr>\n",
              "      <th>2</th>\n",
              "      <td>ابتهال</td>\n",
              "      <td>F</td>\n",
              "    </tr>\n",
              "    <tr>\n",
              "      <th>3</th>\n",
              "      <td>اجتهاد</td>\n",
              "      <td>F</td>\n",
              "    </tr>\n",
              "    <tr>\n",
              "      <th>4</th>\n",
              "      <td>ازدهار</td>\n",
              "      <td>F</td>\n",
              "    </tr>\n",
              "  </tbody>\n",
              "</table>\n",
              "</div>"
            ],
            "text/plain": [
              "     Name Gender\n",
              "0  ابتسام      F\n",
              "1  ابتهاج      F\n",
              "2  ابتهال      F\n",
              "3  اجتهاد      F\n",
              "4  ازدهار      F"
            ]
          },
          "execution_count": 13,
          "metadata": {},
          "output_type": "execute_result"
        }
      ],
      "source": [
        "data1 = pd.read_csv(data1_path)\n",
        "data1.head()"
      ]
    },
    {
      "cell_type": "code",
      "execution_count": null,
      "metadata": {
        "id": "4xRh3kIZK_Yn",
        "outputId": "6c778edc-1e3a-4dc7-ad2d-d96a81f69d01"
      },
      "outputs": [
        {
          "name": "stdout",
          "output_type": "stream",
          "text": [
            "Data1 length: 1405\n"
          ]
        }
      ],
      "source": [
        "print('Data1 length: {}'.format(len(data1)))"
      ]
    },
    {
      "cell_type": "code",
      "execution_count": null,
      "metadata": {
        "id": "4Fyj6L3WK_Yp",
        "outputId": "a43ce445-19ae-4918-9908-a496c548deec"
      },
      "outputs": [
        {
          "data": {
            "text/html": [
              "<div>\n",
              "<style scoped>\n",
              "    .dataframe tbody tr th:only-of-type {\n",
              "        vertical-align: middle;\n",
              "    }\n",
              "\n",
              "    .dataframe tbody tr th {\n",
              "        vertical-align: top;\n",
              "    }\n",
              "\n",
              "    .dataframe thead th {\n",
              "        text-align: right;\n",
              "    }\n",
              "</style>\n",
              "<table border=\"1\" class=\"dataframe\">\n",
              "  <thead>\n",
              "    <tr style=\"text-align: right;\">\n",
              "      <th></th>\n",
              "      <th>Name</th>\n",
              "      <th>Gender</th>\n",
              "    </tr>\n",
              "  </thead>\n",
              "  <tbody>\n",
              "    <tr>\n",
              "      <th>0</th>\n",
              "      <td>آيات</td>\n",
              "      <td>F</td>\n",
              "    </tr>\n",
              "    <tr>\n",
              "      <th>1</th>\n",
              "      <td>آلاء</td>\n",
              "      <td>F</td>\n",
              "    </tr>\n",
              "    <tr>\n",
              "      <th>2</th>\n",
              "      <td>آمال</td>\n",
              "      <td>F</td>\n",
              "    </tr>\n",
              "    <tr>\n",
              "      <th>3</th>\n",
              "      <td>آمنة</td>\n",
              "      <td>F</td>\n",
              "    </tr>\n",
              "    <tr>\n",
              "      <th>4</th>\n",
              "      <td>آيات</td>\n",
              "      <td>F</td>\n",
              "    </tr>\n",
              "  </tbody>\n",
              "</table>\n",
              "</div>"
            ],
            "text/plain": [
              "   Name Gender\n",
              "0  آيات      F\n",
              "1  آلاء      F\n",
              "2  آمال      F\n",
              "3  آمنة      F\n",
              "4  آيات      F"
            ]
          },
          "execution_count": 15,
          "metadata": {},
          "output_type": "execute_result"
        }
      ],
      "source": [
        "data2 = preprocess.load_txt_data(data_path=data2_path, gender = 'F')\n",
        "data2.head()"
      ]
    },
    {
      "cell_type": "code",
      "execution_count": null,
      "metadata": {
        "id": "6S-cxr0aK_Yq",
        "outputId": "b169e756-37e7-4c30-dd20-f7566c4f807d"
      },
      "outputs": [
        {
          "name": "stdout",
          "output_type": "stream",
          "text": [
            "Data2 length: 416\n"
          ]
        }
      ],
      "source": [
        "print('Data2 length: {}'.format(len(data2)))"
      ]
    },
    {
      "cell_type": "code",
      "execution_count": null,
      "metadata": {
        "id": "mMALT81fK_Yq",
        "outputId": "43dce088-61ba-411f-ecd2-4e9423585944"
      },
      "outputs": [
        {
          "data": {
            "text/html": [
              "<div>\n",
              "<style scoped>\n",
              "    .dataframe tbody tr th:only-of-type {\n",
              "        vertical-align: middle;\n",
              "    }\n",
              "\n",
              "    .dataframe tbody tr th {\n",
              "        vertical-align: top;\n",
              "    }\n",
              "\n",
              "    .dataframe thead th {\n",
              "        text-align: right;\n",
              "    }\n",
              "</style>\n",
              "<table border=\"1\" class=\"dataframe\">\n",
              "  <thead>\n",
              "    <tr style=\"text-align: right;\">\n",
              "      <th></th>\n",
              "      <th>Name</th>\n",
              "      <th>Gender</th>\n",
              "    </tr>\n",
              "  </thead>\n",
              "  <tbody>\n",
              "    <tr>\n",
              "      <th>0</th>\n",
              "      <td>أبان</td>\n",
              "      <td>M</td>\n",
              "    </tr>\n",
              "    <tr>\n",
              "      <th>1</th>\n",
              "      <td>أبو بكر</td>\n",
              "      <td>M</td>\n",
              "    </tr>\n",
              "    <tr>\n",
              "      <th>2</th>\n",
              "      <td>أبو حمزة</td>\n",
              "      <td>M</td>\n",
              "    </tr>\n",
              "    <tr>\n",
              "      <th>3</th>\n",
              "      <td>أحد</td>\n",
              "      <td>M</td>\n",
              "    </tr>\n",
              "    <tr>\n",
              "      <th>4</th>\n",
              "      <td>أحمد</td>\n",
              "      <td>M</td>\n",
              "    </tr>\n",
              "  </tbody>\n",
              "</table>\n",
              "</div>"
            ],
            "text/plain": [
              "       Name Gender\n",
              "0      أبان      M\n",
              "1   أبو بكر      M\n",
              "2  أبو حمزة      M\n",
              "3       أحد      M\n",
              "4      أحمد      M"
            ]
          },
          "execution_count": 17,
          "metadata": {},
          "output_type": "execute_result"
        }
      ],
      "source": [
        "data3 = preprocess.load_txt_data(data_path=data3_path, gender = 'M')\n",
        "data3.head()"
      ]
    },
    {
      "cell_type": "code",
      "execution_count": null,
      "metadata": {
        "id": "8nQHbyRTK_Yr",
        "outputId": "2a221123-670f-4845-ce4b-f5ae10f00112"
      },
      "outputs": [
        {
          "name": "stdout",
          "output_type": "stream",
          "text": [
            "Data3 length: 640\n"
          ]
        }
      ],
      "source": [
        "print('Data3 length: {}'.format(len(data3)))"
      ]
    },
    {
      "cell_type": "markdown",
      "metadata": {
        "id": "6ZJJdyUwK_Yr"
      },
      "source": [
        "Now I will combine these data together"
      ]
    },
    {
      "cell_type": "code",
      "execution_count": null,
      "metadata": {
        "id": "9MIGx_3bK_Yr"
      },
      "outputs": [],
      "source": [
        "data = preprocess.combine_data([data1, data2, data3])"
      ]
    },
    {
      "cell_type": "markdown",
      "metadata": {
        "id": "IQ4QlUcoK_Ys"
      },
      "source": [
        "### 2.2. Clean data and Get familiar with it"
      ]
    },
    {
      "cell_type": "markdown",
      "metadata": {
        "id": "qlDRV0f7K_Ys"
      },
      "source": [
        "Now lets explore data"
      ]
    },
    {
      "cell_type": "code",
      "execution_count": null,
      "metadata": {
        "id": "I4AciASdK_Ys"
      },
      "outputs": [],
      "source": [
        "explorer = Explorer(data=data)"
      ]
    },
    {
      "cell_type": "code",
      "execution_count": null,
      "metadata": {
        "id": "kd1sh9J_K_Yt",
        "outputId": "a2b0adba-9431-4695-9d5d-41009eaa39a5"
      },
      "outputs": [
        {
          "data": {
            "text/html": [
              "<div>\n",
              "<style scoped>\n",
              "    .dataframe tbody tr th:only-of-type {\n",
              "        vertical-align: middle;\n",
              "    }\n",
              "\n",
              "    .dataframe tbody tr th {\n",
              "        vertical-align: top;\n",
              "    }\n",
              "\n",
              "    .dataframe thead th {\n",
              "        text-align: right;\n",
              "    }\n",
              "</style>\n",
              "<table border=\"1\" class=\"dataframe\">\n",
              "  <thead>\n",
              "    <tr style=\"text-align: right;\">\n",
              "      <th></th>\n",
              "      <th>Name</th>\n",
              "      <th>Gender</th>\n",
              "    </tr>\n",
              "  </thead>\n",
              "  <tbody>\n",
              "    <tr>\n",
              "      <th>0</th>\n",
              "      <td>ابتسام</td>\n",
              "      <td>F</td>\n",
              "    </tr>\n",
              "    <tr>\n",
              "      <th>1</th>\n",
              "      <td>ابتهاج</td>\n",
              "      <td>F</td>\n",
              "    </tr>\n",
              "    <tr>\n",
              "      <th>2</th>\n",
              "      <td>ابتهال</td>\n",
              "      <td>F</td>\n",
              "    </tr>\n",
              "    <tr>\n",
              "      <th>3</th>\n",
              "      <td>اجتهاد</td>\n",
              "      <td>F</td>\n",
              "    </tr>\n",
              "    <tr>\n",
              "      <th>4</th>\n",
              "      <td>ازدهار</td>\n",
              "      <td>F</td>\n",
              "    </tr>\n",
              "  </tbody>\n",
              "</table>\n",
              "</div>"
            ],
            "text/plain": [
              "     Name Gender\n",
              "0  ابتسام      F\n",
              "1  ابتهاج      F\n",
              "2  ابتهال      F\n",
              "3  اجتهاد      F\n",
              "4  ازدهار      F"
            ]
          },
          "execution_count": 21,
          "metadata": {},
          "output_type": "execute_result"
        }
      ],
      "source": [
        "data.head()"
      ]
    },
    {
      "cell_type": "code",
      "execution_count": null,
      "metadata": {
        "id": "1FRGAS-SK_Yt",
        "outputId": "88a91285-6ab9-4ed9-9f92-fe608f090f00"
      },
      "outputs": [
        {
          "data": {
            "text/html": [
              "<div>\n",
              "<style scoped>\n",
              "    .dataframe tbody tr th:only-of-type {\n",
              "        vertical-align: middle;\n",
              "    }\n",
              "\n",
              "    .dataframe tbody tr th {\n",
              "        vertical-align: top;\n",
              "    }\n",
              "\n",
              "    .dataframe thead th {\n",
              "        text-align: right;\n",
              "    }\n",
              "</style>\n",
              "<table border=\"1\" class=\"dataframe\">\n",
              "  <thead>\n",
              "    <tr style=\"text-align: right;\">\n",
              "      <th></th>\n",
              "      <th>Name</th>\n",
              "      <th>Gender</th>\n",
              "    </tr>\n",
              "  </thead>\n",
              "  <tbody>\n",
              "    <tr>\n",
              "      <th>2456</th>\n",
              "      <td>وفيق</td>\n",
              "      <td>M</td>\n",
              "    </tr>\n",
              "    <tr>\n",
              "      <th>2457</th>\n",
              "      <td>وهاب</td>\n",
              "      <td>M</td>\n",
              "    </tr>\n",
              "    <tr>\n",
              "      <th>2458</th>\n",
              "      <td>وهبة</td>\n",
              "      <td>M</td>\n",
              "    </tr>\n",
              "    <tr>\n",
              "      <th>2459</th>\n",
              "      <td>ياسر</td>\n",
              "      <td>M</td>\n",
              "    </tr>\n",
              "    <tr>\n",
              "      <th>2460</th>\n",
              "      <td>يحيى</td>\n",
              "      <td>M</td>\n",
              "    </tr>\n",
              "  </tbody>\n",
              "</table>\n",
              "</div>"
            ],
            "text/plain": [
              "      Name Gender\n",
              "2456  وفيق      M\n",
              "2457  وهاب      M\n",
              "2458  وهبة      M\n",
              "2459  ياسر      M\n",
              "2460  يحيى      M"
            ]
          },
          "execution_count": 22,
          "metadata": {},
          "output_type": "execute_result"
        }
      ],
      "source": [
        "data.tail()"
      ]
    },
    {
      "cell_type": "code",
      "execution_count": null,
      "metadata": {
        "id": "FdVFVlIKK_Yu",
        "outputId": "1f2b8824-b687-49d9-d9bd-ac8c360e0755"
      },
      "outputs": [
        {
          "name": "stdout",
          "output_type": "stream",
          "text": [
            "<class 'pandas.core.frame.DataFrame'>\n",
            "RangeIndex: 2461 entries, 0 to 2460\n",
            "Data columns (total 2 columns):\n",
            " #   Column  Non-Null Count  Dtype \n",
            "---  ------  --------------  ----- \n",
            " 0   Name    2461 non-null   object\n",
            " 1   Gender  2461 non-null   object\n",
            "dtypes: object(2)\n",
            "memory usage: 38.6+ KB\n"
          ]
        }
      ],
      "source": [
        "data.info()"
      ]
    },
    {
      "cell_type": "markdown",
      "metadata": {
        "id": "F9yW1GQpK_Yu"
      },
      "source": [
        "There are no null values let's check if there are duplicated rows"
      ]
    },
    {
      "cell_type": "code",
      "execution_count": null,
      "metadata": {
        "id": "xZK85G5-K_Yu",
        "outputId": "7384c970-b94c-438c-87ea-eded97b9da5a"
      },
      "outputs": [
        {
          "data": {
            "text/html": [
              "<div>\n",
              "<style scoped>\n",
              "    .dataframe tbody tr th:only-of-type {\n",
              "        vertical-align: middle;\n",
              "    }\n",
              "\n",
              "    .dataframe tbody tr th {\n",
              "        vertical-align: top;\n",
              "    }\n",
              "\n",
              "    .dataframe thead th {\n",
              "        text-align: right;\n",
              "    }\n",
              "</style>\n",
              "<table border=\"1\" class=\"dataframe\">\n",
              "  <thead>\n",
              "    <tr style=\"text-align: right;\">\n",
              "      <th></th>\n",
              "      <th>Name</th>\n",
              "      <th>Gender</th>\n",
              "    </tr>\n",
              "  </thead>\n",
              "  <tbody>\n",
              "    <tr>\n",
              "      <th>1405</th>\n",
              "      <td>آيات</td>\n",
              "      <td>F</td>\n",
              "    </tr>\n",
              "    <tr>\n",
              "      <th>1406</th>\n",
              "      <td>آلاء</td>\n",
              "      <td>F</td>\n",
              "    </tr>\n",
              "    <tr>\n",
              "      <th>1407</th>\n",
              "      <td>آمال</td>\n",
              "      <td>F</td>\n",
              "    </tr>\n",
              "    <tr>\n",
              "      <th>1408</th>\n",
              "      <td>آمنة</td>\n",
              "      <td>F</td>\n",
              "    </tr>\n",
              "    <tr>\n",
              "      <th>1409</th>\n",
              "      <td>آيات</td>\n",
              "      <td>F</td>\n",
              "    </tr>\n",
              "    <tr>\n",
              "      <th>...</th>\n",
              "      <td>...</td>\n",
              "      <td>...</td>\n",
              "    </tr>\n",
              "    <tr>\n",
              "      <th>2456</th>\n",
              "      <td>وفيق</td>\n",
              "      <td>M</td>\n",
              "    </tr>\n",
              "    <tr>\n",
              "      <th>2457</th>\n",
              "      <td>وهاب</td>\n",
              "      <td>M</td>\n",
              "    </tr>\n",
              "    <tr>\n",
              "      <th>2458</th>\n",
              "      <td>وهبة</td>\n",
              "      <td>M</td>\n",
              "    </tr>\n",
              "    <tr>\n",
              "      <th>2459</th>\n",
              "      <td>ياسر</td>\n",
              "      <td>M</td>\n",
              "    </tr>\n",
              "    <tr>\n",
              "      <th>2460</th>\n",
              "      <td>يحيى</td>\n",
              "      <td>M</td>\n",
              "    </tr>\n",
              "  </tbody>\n",
              "</table>\n",
              "<p>867 rows × 2 columns</p>\n",
              "</div>"
            ],
            "text/plain": [
              "      Name Gender\n",
              "1405  آيات      F\n",
              "1406  آلاء      F\n",
              "1407  آمال      F\n",
              "1408  آمنة      F\n",
              "1409  آيات      F\n",
              "...    ...    ...\n",
              "2456  وفيق      M\n",
              "2457  وهاب      M\n",
              "2458  وهبة      M\n",
              "2459  ياسر      M\n",
              "2460  يحيى      M\n",
              "\n",
              "[867 rows x 2 columns]"
            ]
          },
          "execution_count": 24,
          "metadata": {},
          "output_type": "execute_result"
        }
      ],
      "source": [
        "explorer.get_duplicated_rows()"
      ]
    },
    {
      "cell_type": "markdown",
      "metadata": {
        "id": "ASwCTWw2K_Yv"
      },
      "source": [
        "There are a lot of repated rows from combined data I will drop them"
      ]
    },
    {
      "cell_type": "code",
      "execution_count": null,
      "metadata": {
        "id": "zRME8jkFK_Yv"
      },
      "outputs": [],
      "source": [
        "data = preprocess.delete_duplicated_raws(data)"
      ]
    },
    {
      "cell_type": "markdown",
      "metadata": {
        "id": "PCs-Dv_8K_Yv"
      },
      "source": [
        "Now let's check the data again"
      ]
    },
    {
      "cell_type": "code",
      "execution_count": null,
      "metadata": {
        "id": "pPhilCIEK_Yw"
      },
      "outputs": [],
      "source": [
        "explorer = Explorer(data=data)\n",
        "visualizer = Visualizer(data=data)"
      ]
    },
    {
      "cell_type": "code",
      "execution_count": null,
      "metadata": {
        "id": "S1XNYCRFK_Yw",
        "outputId": "85a6c7ea-1f22-4dd4-93ac-a23d97c16b23"
      },
      "outputs": [
        {
          "data": {
            "text/html": [
              "<div>\n",
              "<style scoped>\n",
              "    .dataframe tbody tr th:only-of-type {\n",
              "        vertical-align: middle;\n",
              "    }\n",
              "\n",
              "    .dataframe tbody tr th {\n",
              "        vertical-align: top;\n",
              "    }\n",
              "\n",
              "    .dataframe thead th {\n",
              "        text-align: right;\n",
              "    }\n",
              "</style>\n",
              "<table border=\"1\" class=\"dataframe\">\n",
              "  <thead>\n",
              "    <tr style=\"text-align: right;\">\n",
              "      <th></th>\n",
              "      <th>Name</th>\n",
              "      <th>Gender</th>\n",
              "    </tr>\n",
              "  </thead>\n",
              "  <tbody>\n",
              "  </tbody>\n",
              "</table>\n",
              "</div>"
            ],
            "text/plain": [
              "Empty DataFrame\n",
              "Columns: [Name, Gender]\n",
              "Index: []"
            ]
          },
          "execution_count": 27,
          "metadata": {},
          "output_type": "execute_result"
        }
      ],
      "source": [
        "explorer.get_duplicated_rows()"
      ]
    },
    {
      "cell_type": "code",
      "execution_count": null,
      "metadata": {
        "id": "O9njhDZGK_Yw",
        "outputId": "1969e435-245e-4543-c96f-856b69b414d7"
      },
      "outputs": [
        {
          "data": {
            "text/plain": [
              "M    959\n",
              "F    635\n",
              "Name: Gender, dtype: int64"
            ]
          },
          "execution_count": 28,
          "metadata": {},
          "output_type": "execute_result"
        }
      ],
      "source": [
        "explorer.get_gender_counts()"
      ]
    },
    {
      "cell_type": "code",
      "execution_count": null,
      "metadata": {
        "id": "SIQdkeZoK_Yx",
        "outputId": "dc3a63ab-5514-4d91-8e44-846df9383eae"
      },
      "outputs": [
        {
          "data": {
            "image/png": "[encoded data removed]",
            "text/plain": [
              "<Figure size 800x800 with 1 Axes>"
            ]
          },
          "metadata": {},
          "output_type": "display_data"
        }
      ],
      "source": [
        "visualizer.show_gender_counts('gender_counts')"
      ]
    },
    {
      "cell_type": "code",
      "execution_count": null,
      "metadata": {
        "id": "fdpBhpuvK_Yy",
        "outputId": "971321c7-6829-4bfa-c1a4-b276e8790f6b"
      },
      "outputs": [
        {
          "data": {
            "image/png": "[encoded data removed]",
            "text/plain": [
              "<Figure size 800x800 with 1 Axes>"
            ]
          },
          "metadata": {},
          "output_type": "display_data"
        }
      ],
      "source": [
        "visualizer.show_percentage('gender_percentage')"
      ]
    },
    {
      "cell_type": "markdown",
      "metadata": {
        "id": "c5t68WglK_Yy"
      },
      "source": [
        "There are some names consist of two parts lets handle this"
      ]
    },
    {
      "cell_type": "code",
      "execution_count": null,
      "metadata": {
        "id": "usVyE4ZGK_Yy",
        "outputId": "0018b1ce-5248-4599-cb32-0999dab5cab4"
      },
      "outputs": [
        {
          "data": {
            "text/html": [
              "<div>\n",
              "<style scoped>\n",
              "    .dataframe tbody tr th:only-of-type {\n",
              "        vertical-align: middle;\n",
              "    }\n",
              "\n",
              "    .dataframe tbody tr th {\n",
              "        vertical-align: top;\n",
              "    }\n",
              "\n",
              "    .dataframe thead th {\n",
              "        text-align: right;\n",
              "    }\n",
              "</style>\n",
              "<table border=\"1\" class=\"dataframe\">\n",
              "  <thead>\n",
              "    <tr style=\"text-align: right;\">\n",
              "      <th></th>\n",
              "      <th>Name</th>\n",
              "      <th>Gender</th>\n",
              "    </tr>\n",
              "  </thead>\n",
              "  <tbody>\n",
              "    <tr>\n",
              "      <th>0</th>\n",
              "      <td>أم كلثوم</td>\n",
              "      <td>F</td>\n",
              "    </tr>\n",
              "    <tr>\n",
              "      <th>1</th>\n",
              "      <td>أبو بكر</td>\n",
              "      <td>M</td>\n",
              "    </tr>\n",
              "    <tr>\n",
              "      <th>2</th>\n",
              "      <td>شمس الدين</td>\n",
              "      <td>M</td>\n",
              "    </tr>\n",
              "    <tr>\n",
              "      <th>3</th>\n",
              "      <td>صلاح الدين</td>\n",
              "      <td>M</td>\n",
              "    </tr>\n",
              "    <tr>\n",
              "      <th>4</th>\n",
              "      <td>علاء الدين</td>\n",
              "      <td>M</td>\n",
              "    </tr>\n",
              "    <tr>\n",
              "      <th>5</th>\n",
              "      <td>معين الدين</td>\n",
              "      <td>M</td>\n",
              "    </tr>\n",
              "    <tr>\n",
              "      <th>6</th>\n",
              "      <td>ناصر الدين</td>\n",
              "      <td>M</td>\n",
              "    </tr>\n",
              "    <tr>\n",
              "      <th>7</th>\n",
              "      <td>نجم الدين</td>\n",
              "      <td>M</td>\n",
              "    </tr>\n",
              "    <tr>\n",
              "      <th>8</th>\n",
              "      <td>ولاء الدين</td>\n",
              "      <td>M</td>\n",
              "    </tr>\n",
              "    <tr>\n",
              "      <th>9</th>\n",
              "      <td>سعيدة بضم السين</td>\n",
              "      <td>F</td>\n",
              "    </tr>\n",
              "    <tr>\n",
              "      <th>10</th>\n",
              "      <td>أبو حمزة</td>\n",
              "      <td>M</td>\n",
              "    </tr>\n",
              "    <tr>\n",
              "      <th>11</th>\n",
              "      <td>عبد الحسين</td>\n",
              "      <td>M</td>\n",
              "    </tr>\n",
              "  </tbody>\n",
              "</table>\n",
              "</div>"
            ],
            "text/plain": [
              "               Name Gender\n",
              "0          أم كلثوم      F\n",
              "1           أبو بكر      M\n",
              "2         شمس الدين      M\n",
              "3        صلاح الدين      M\n",
              "4        علاء الدين      M\n",
              "5        معين الدين      M\n",
              "6        ناصر الدين      M\n",
              "7         نجم الدين      M\n",
              "8        ولاء الدين      M\n",
              "9   سعيدة بضم السين      F\n",
              "10         أبو حمزة      M\n",
              "11       عبد الحسين      M"
            ]
          },
          "execution_count": 31,
          "metadata": {},
          "output_type": "execute_result"
        }
      ],
      "source": [
        "explorer.get_double_names()"
      ]
    },
    {
      "cell_type": "markdown",
      "metadata": {
        "id": "BjzgCHBdK_Yz"
      },
      "source": [
        "I will replace the space`\" \"` between the two names with `-` and drop  `سعيدة بضم السين`"
      ]
    },
    {
      "cell_type": "code",
      "execution_count": null,
      "metadata": {
        "id": "ZN8GdhEiK_Yz"
      },
      "outputs": [],
      "source": [
        "data = preprocess.handle_double_names(data)"
      ]
    },
    {
      "cell_type": "code",
      "execution_count": null,
      "metadata": {
        "id": "TxJ7DrT6K_Yz",
        "outputId": "e44fb4c4-0851-4b1b-ba1e-4abd3247634b"
      },
      "outputs": [
        {
          "data": {
            "text/html": [
              "<div>\n",
              "<style scoped>\n",
              "    .dataframe tbody tr th:only-of-type {\n",
              "        vertical-align: middle;\n",
              "    }\n",
              "\n",
              "    .dataframe tbody tr th {\n",
              "        vertical-align: top;\n",
              "    }\n",
              "\n",
              "    .dataframe thead th {\n",
              "        text-align: right;\n",
              "    }\n",
              "</style>\n",
              "<table border=\"1\" class=\"dataframe\">\n",
              "  <thead>\n",
              "    <tr style=\"text-align: right;\">\n",
              "      <th></th>\n",
              "      <th>Name</th>\n",
              "      <th>Gender</th>\n",
              "    </tr>\n",
              "  </thead>\n",
              "  <tbody>\n",
              "  </tbody>\n",
              "</table>\n",
              "</div>"
            ],
            "text/plain": [
              "Empty DataFrame\n",
              "Columns: [Name, Gender]\n",
              "Index: []"
            ]
          },
          "execution_count": 33,
          "metadata": {},
          "output_type": "execute_result"
        }
      ],
      "source": [
        "explorer = Explorer(data)\n",
        "explorer.get_double_names()"
      ]
    },
    {
      "cell_type": "markdown",
      "metadata": {
        "id": "bRa7RCHIK_Y0"
      },
      "source": [
        "There are some names that are considered male or female names"
      ]
    },
    {
      "cell_type": "code",
      "execution_count": null,
      "metadata": {
        "id": "qXIEi1ekK_Y0",
        "outputId": "4187ff66-3a82-47cb-a83f-224ad68b1025"
      },
      "outputs": [
        {
          "data": {
            "text/html": [
              "<div>\n",
              "<style scoped>\n",
              "    .dataframe tbody tr th:only-of-type {\n",
              "        vertical-align: middle;\n",
              "    }\n",
              "\n",
              "    .dataframe tbody tr th {\n",
              "        vertical-align: top;\n",
              "    }\n",
              "\n",
              "    .dataframe thead th {\n",
              "        text-align: right;\n",
              "    }\n",
              "</style>\n",
              "<table border=\"1\" class=\"dataframe\">\n",
              "  <thead>\n",
              "    <tr style=\"text-align: right;\">\n",
              "      <th></th>\n",
              "      <th>Name</th>\n",
              "      <th>Gender</th>\n",
              "    </tr>\n",
              "  </thead>\n",
              "  <tbody>\n",
              "    <tr>\n",
              "      <th>72</th>\n",
              "      <td>إحسان</td>\n",
              "      <td>F</td>\n",
              "    </tr>\n",
              "    <tr>\n",
              "      <th>102</th>\n",
              "      <td>براء</td>\n",
              "      <td>F</td>\n",
              "    </tr>\n",
              "    <tr>\n",
              "      <th>106</th>\n",
              "      <td>بشري</td>\n",
              "      <td>F</td>\n",
              "    </tr>\n",
              "    <tr>\n",
              "      <th>112</th>\n",
              "      <td>بيان</td>\n",
              "      <td>F</td>\n",
              "    </tr>\n",
              "    <tr>\n",
              "      <th>124</th>\n",
              "      <td>تيسير</td>\n",
              "      <td>F</td>\n",
              "    </tr>\n",
              "    <tr>\n",
              "      <th>...</th>\n",
              "      <td>...</td>\n",
              "      <td>...</td>\n",
              "    </tr>\n",
              "    <tr>\n",
              "      <th>1553</th>\n",
              "      <td>فاتن</td>\n",
              "      <td>M</td>\n",
              "    </tr>\n",
              "    <tr>\n",
              "      <th>1576</th>\n",
              "      <td>ميار</td>\n",
              "      <td>M</td>\n",
              "    </tr>\n",
              "    <tr>\n",
              "      <th>1579</th>\n",
              "      <td>نجد</td>\n",
              "      <td>M</td>\n",
              "    </tr>\n",
              "    <tr>\n",
              "      <th>1581</th>\n",
              "      <td>ندرة</td>\n",
              "      <td>M</td>\n",
              "    </tr>\n",
              "    <tr>\n",
              "      <th>1588</th>\n",
              "      <td>هدير</td>\n",
              "      <td>M</td>\n",
              "    </tr>\n",
              "  </tbody>\n",
              "</table>\n",
              "<p>86 rows × 2 columns</p>\n",
              "</div>"
            ],
            "text/plain": [
              "       Name Gender\n",
              "72    إحسان      F\n",
              "102    براء      F\n",
              "106    بشري      F\n",
              "112    بيان      F\n",
              "124   تيسير      F\n",
              "...     ...    ...\n",
              "1553   فاتن      M\n",
              "1576   ميار      M\n",
              "1579    نجد      M\n",
              "1581   ندرة      M\n",
              "1588   هدير      M\n",
              "\n",
              "[86 rows x 2 columns]"
            ]
          },
          "execution_count": 34,
          "metadata": {},
          "output_type": "execute_result"
        }
      ],
      "source": [
        "mf_names = explorer.get_duplicate_names()\n",
        "mf_names"
      ]
    },
    {
      "cell_type": "code",
      "execution_count": null,
      "metadata": {
        "id": "_EKx-rn4K_Y0",
        "outputId": "0aa50466-eb7c-4e4d-b077-7b51df603446"
      },
      "outputs": [
        {
          "data": {
            "text/plain": [
              "['إحسان',\n",
              " 'براء',\n",
              " 'بشري',\n",
              " 'بيان',\n",
              " 'تيسير',\n",
              " 'ثراء',\n",
              " 'جبلة',\n",
              " 'دانا',\n",
              " 'رجاء',\n",
              " 'رضا',\n",
              " 'رمزية',\n",
              " 'سلامة',\n",
              " 'ضياء',\n",
              " 'طيب',\n",
              " 'عابدة',\n",
              " 'عبادة',\n",
              " 'عزة',\n",
              " 'غيد',\n",
              " 'فاتن',\n",
              " 'ميار',\n",
              " 'نجد',\n",
              " 'نسيم',\n",
              " 'نصر',\n",
              " 'نضال',\n",
              " 'نعيم',\n",
              " 'نوار',\n",
              " 'نورس',\n",
              " 'هدير',\n",
              " 'ورد',\n",
              " 'وسام',\n",
              " 'وهبة',\n",
              " 'أمية',\n",
              " 'حجاب',\n",
              " 'رجب',\n",
              " 'رياض',\n",
              " 'عتابة',\n",
              " 'عشير',\n",
              " 'عنبر',\n",
              " 'فضل',\n",
              " 'مارسيل',\n",
              " 'مرحب',\n",
              " 'هريرة',\n",
              " 'ندرة']"
            ]
          },
          "execution_count": 35,
          "metadata": {},
          "output_type": "execute_result"
        }
      ],
      "source": [
        "names = list(mf_names['Name'].unique())\n",
        "names"
      ]
    },
    {
      "cell_type": "markdown",
      "metadata": {
        "id": "oymxaJ7tK_Y1"
      },
      "source": [
        "### 2.3. Save Data"
      ]
    },
    {
      "cell_type": "code",
      "execution_count": null,
      "metadata": {
        "id": "2KiILIYRK_Y1"
      },
      "outputs": [],
      "source": [
        "data.to_csv(\"../data/processed/processed_data.csv\", index=False)"
      ]
    },
    {
      "cell_type": "code",
      "execution_count": null,
      "metadata": {
        "id": "4bVtF1-hK_Y2",
        "outputId": "54e4ed13-6447-4658-e72e-47418323cfe0"
      },
      "outputs": [
        {
          "data": {
            "text/plain": [
              "['../data/processed/fm_names.pkl']"
            ]
          },
          "execution_count": 37,
          "metadata": {},
          "output_type": "execute_result"
        }
      ],
      "source": [
        "# save male female names to use it correctly in data generation\n",
        "joblib.dump(names, \"../data/processed/fm_names.pkl\")"
      ]
    },
    {
      "cell_type": "markdown",
      "metadata": {
        "id": "3Bc03LYRK_Y2"
      },
      "source": [
        "## 3. Data Generation"
      ]
    },
    {
      "cell_type": "markdown",
      "metadata": {
        "id": "M-0gjqXZK_Y2"
      },
      "source": [
        "#### 3.1 load data"
      ]
    },
    {
      "cell_type": "code",
      "execution_count": null,
      "metadata": {
        "id": "yGX2JTk-K_Y2"
      },
      "outputs": [],
      "source": [
        "data = pd.read_csv('../data/processed/processed_data.csv')"
      ]
    },
    {
      "cell_type": "code",
      "execution_count": null,
      "metadata": {
        "id": "fcw6TESQK_Y3",
        "outputId": "341fe2b3-c32d-4ef3-8216-4bbf5a51e42a"
      },
      "outputs": [
        {
          "data": {
            "text/html": [
              "<div>\n",
              "<style scoped>\n",
              "    .dataframe tbody tr th:only-of-type {\n",
              "        vertical-align: middle;\n",
              "    }\n",
              "\n",
              "    .dataframe tbody tr th {\n",
              "        vertical-align: top;\n",
              "    }\n",
              "\n",
              "    .dataframe thead th {\n",
              "        text-align: right;\n",
              "    }\n",
              "</style>\n",
              "<table border=\"1\" class=\"dataframe\">\n",
              "  <thead>\n",
              "    <tr style=\"text-align: right;\">\n",
              "      <th></th>\n",
              "      <th>Name</th>\n",
              "      <th>Gender</th>\n",
              "    </tr>\n",
              "  </thead>\n",
              "  <tbody>\n",
              "    <tr>\n",
              "      <th>0</th>\n",
              "      <td>ابتسام</td>\n",
              "      <td>F</td>\n",
              "    </tr>\n",
              "    <tr>\n",
              "      <th>1</th>\n",
              "      <td>ابتهاج</td>\n",
              "      <td>F</td>\n",
              "    </tr>\n",
              "    <tr>\n",
              "      <th>2</th>\n",
              "      <td>ابتهال</td>\n",
              "      <td>F</td>\n",
              "    </tr>\n",
              "    <tr>\n",
              "      <th>3</th>\n",
              "      <td>اجتهاد</td>\n",
              "      <td>F</td>\n",
              "    </tr>\n",
              "    <tr>\n",
              "      <th>4</th>\n",
              "      <td>ازدهار</td>\n",
              "      <td>F</td>\n",
              "    </tr>\n",
              "  </tbody>\n",
              "</table>\n",
              "</div>"
            ],
            "text/plain": [
              "     Name Gender\n",
              "0  ابتسام      F\n",
              "1  ابتهاج      F\n",
              "2  ابتهال      F\n",
              "3  اجتهاد      F\n",
              "4  ازدهار      F"
            ]
          },
          "execution_count": 39,
          "metadata": {},
          "output_type": "execute_result"
        }
      ],
      "source": [
        "data.head()"
      ]
    },
    {
      "cell_type": "markdown",
      "metadata": {
        "id": "XLJbpeaGK_Y3"
      },
      "source": [
        "#### 3.2 Generate data"
      ]
    },
    {
      "cell_type": "markdown",
      "metadata": {
        "id": "mvHa2Sh9K_Y3"
      },
      "source": [
        "The data consist of trple name and if the name is correct or not <br>\n",
        "1. The arabic names consist of [`son name` + `father name` + `grandpa name`] <br>\n",
        "2. The real name will consist of [`male or female name` + `male name` + `male name`]\n",
        "3. The fake name consist of real name with three char changed randomly or the father or grandfather name is female name"
      ]
    },
    {
      "cell_type": "code",
      "execution_count": null,
      "metadata": {
        "id": "lyftDbz4K_Y3"
      },
      "outputs": [],
      "source": [
        "generator = DataGenerator(data)"
      ]
    },
    {
      "cell_type": "code",
      "execution_count": null,
      "metadata": {
        "id": "tKGxIrgIK_Y4"
      },
      "outputs": [],
      "source": [
        "real_data = generator.generate_real_data(2000000)"
      ]
    },
    {
      "cell_type": "code",
      "execution_count": null,
      "metadata": {
        "id": "u58iyCKUK_Y4",
        "outputId": "b8dbad88-4094-4f22-d5db-810f6c6f3239"
      },
      "outputs": [
        {
          "data": {
            "text/html": [
              "<div>\n",
              "<style scoped>\n",
              "    .dataframe tbody tr th:only-of-type {\n",
              "        vertical-align: middle;\n",
              "    }\n",
              "\n",
              "    .dataframe tbody tr th {\n",
              "        vertical-align: top;\n",
              "    }\n",
              "\n",
              "    .dataframe thead th {\n",
              "        text-align: right;\n",
              "    }\n",
              "</style>\n",
              "<table border=\"1\" class=\"dataframe\">\n",
              "  <thead>\n",
              "    <tr style=\"text-align: right;\">\n",
              "      <th></th>\n",
              "      <th>name</th>\n",
              "      <th>correct</th>\n",
              "    </tr>\n",
              "  </thead>\n",
              "  <tbody>\n",
              "    <tr>\n",
              "      <th>0</th>\n",
              "      <td>أنسام كاظم عراد</td>\n",
              "      <td>1</td>\n",
              "    </tr>\n",
              "    <tr>\n",
              "      <th>1</th>\n",
              "      <td>عدنان عتابة غياث</td>\n",
              "      <td>1</td>\n",
              "    </tr>\n",
              "    <tr>\n",
              "      <th>2</th>\n",
              "      <td>نجاد فلوح باسط</td>\n",
              "      <td>1</td>\n",
              "    </tr>\n",
              "    <tr>\n",
              "      <th>3</th>\n",
              "      <td>سبيعة زاكي ميار</td>\n",
              "      <td>1</td>\n",
              "    </tr>\n",
              "    <tr>\n",
              "      <th>4</th>\n",
              "      <td>عزة لطيف عراب</td>\n",
              "      <td>1</td>\n",
              "    </tr>\n",
              "  </tbody>\n",
              "</table>\n",
              "</div>"
            ],
            "text/plain": [
              "               name  correct\n",
              "0   أنسام كاظم عراد        1\n",
              "1  عدنان عتابة غياث        1\n",
              "2    نجاد فلوح باسط        1\n",
              "3   سبيعة زاكي ميار        1\n",
              "4     عزة لطيف عراب        1"
            ]
          },
          "execution_count": 49,
          "metadata": {},
          "output_type": "execute_result"
        }
      ],
      "source": [
        "real_data.head()"
      ]
    },
    {
      "cell_type": "code",
      "execution_count": null,
      "metadata": {
        "id": "OdbwtOivK_Y4"
      },
      "outputs": [],
      "source": [
        "wrong_data = generator.generate_wrong_names_data(2000000)"
      ]
    },
    {
      "cell_type": "code",
      "execution_count": null,
      "metadata": {
        "id": "-ovrCtp6K_Y4",
        "outputId": "04ddf2ce-af87-454e-9e10-9c03af8e45c3"
      },
      "outputs": [
        {
          "data": {
            "text/html": [
              "<div>\n",
              "<style scoped>\n",
              "    .dataframe tbody tr th:only-of-type {\n",
              "        vertical-align: middle;\n",
              "    }\n",
              "\n",
              "    .dataframe tbody tr th {\n",
              "        vertical-align: top;\n",
              "    }\n",
              "\n",
              "    .dataframe thead th {\n",
              "        text-align: right;\n",
              "    }\n",
              "</style>\n",
              "<table border=\"1\" class=\"dataframe\">\n",
              "  <thead>\n",
              "    <tr style=\"text-align: right;\">\n",
              "      <th></th>\n",
              "      <th>name</th>\n",
              "      <th>correct</th>\n",
              "    </tr>\n",
              "  </thead>\n",
              "  <tbody>\n",
              "    <tr>\n",
              "      <th>0</th>\n",
              "      <td>أفناظ إسلاد تهظمي</td>\n",
              "      <td>0</td>\n",
              "    </tr>\n",
              "    <tr>\n",
              "      <th>1</th>\n",
              "      <td>حوط صلفح عمذد</td>\n",
              "      <td>0</td>\n",
              "    </tr>\n",
              "    <tr>\n",
              "      <th>2</th>\n",
              "      <td>نشال كرحان تقا</td>\n",
              "      <td>0</td>\n",
              "    </tr>\n",
              "    <tr>\n",
              "      <th>3</th>\n",
              "      <td>ظبفة ططب زبدالمجيد</td>\n",
              "      <td>0</td>\n",
              "    </tr>\n",
              "    <tr>\n",
              "      <th>4</th>\n",
              "      <td>أفىان مسير عخطف</td>\n",
              "      <td>0</td>\n",
              "    </tr>\n",
              "  </tbody>\n",
              "</table>\n",
              "</div>"
            ],
            "text/plain": [
              "                 name  correct\n",
              "0   أفناظ إسلاد تهظمي        0\n",
              "1       حوط صلفح عمذد        0\n",
              "2      نشال كرحان تقا        0\n",
              "3  ظبفة ططب زبدالمجيد        0\n",
              "4     أفىان مسير عخطف        0"
            ]
          },
          "execution_count": 51,
          "metadata": {},
          "output_type": "execute_result"
        }
      ],
      "source": [
        "wrong_data.head()"
      ]
    },
    {
      "cell_type": "code",
      "execution_count": null,
      "metadata": {
        "id": "5nCOUmXDK_Y5"
      },
      "outputs": [],
      "source": [
        "preprocess = Preprocess()\n",
        "data = preprocess.combine_data([real_data, wrong_data])"
      ]
    },
    {
      "cell_type": "code",
      "execution_count": null,
      "metadata": {
        "id": "eosHc7w8K_Y5",
        "outputId": "7aeb2044-5915-4297-99f2-f0c1ff7839a6"
      },
      "outputs": [
        {
          "data": {
            "text/html": [
              "<div>\n",
              "<style scoped>\n",
              "    .dataframe tbody tr th:only-of-type {\n",
              "        vertical-align: middle;\n",
              "    }\n",
              "\n",
              "    .dataframe tbody tr th {\n",
              "        vertical-align: top;\n",
              "    }\n",
              "\n",
              "    .dataframe thead th {\n",
              "        text-align: right;\n",
              "    }\n",
              "</style>\n",
              "<table border=\"1\" class=\"dataframe\">\n",
              "  <thead>\n",
              "    <tr style=\"text-align: right;\">\n",
              "      <th></th>\n",
              "      <th>name</th>\n",
              "      <th>correct</th>\n",
              "    </tr>\n",
              "  </thead>\n",
              "  <tbody>\n",
              "    <tr>\n",
              "      <th>0</th>\n",
              "      <td>أنسام كاظم عراد</td>\n",
              "      <td>1</td>\n",
              "    </tr>\n",
              "    <tr>\n",
              "      <th>1</th>\n",
              "      <td>عدنان عتابة غياث</td>\n",
              "      <td>1</td>\n",
              "    </tr>\n",
              "    <tr>\n",
              "      <th>2</th>\n",
              "      <td>نجاد فلوح باسط</td>\n",
              "      <td>1</td>\n",
              "    </tr>\n",
              "    <tr>\n",
              "      <th>3</th>\n",
              "      <td>سبيعة زاكي ميار</td>\n",
              "      <td>1</td>\n",
              "    </tr>\n",
              "    <tr>\n",
              "      <th>4</th>\n",
              "      <td>عزة لطيف عراب</td>\n",
              "      <td>1</td>\n",
              "    </tr>\n",
              "    <tr>\n",
              "      <th>...</th>\n",
              "      <td>...</td>\n",
              "      <td>...</td>\n",
              "    </tr>\n",
              "    <tr>\n",
              "      <th>3999995</th>\n",
              "      <td>أكرم فاتك طامحة</td>\n",
              "      <td>0</td>\n",
              "    </tr>\n",
              "    <tr>\n",
              "      <th>3999996</th>\n",
              "      <td>كرم صمصام أسماء</td>\n",
              "      <td>0</td>\n",
              "    </tr>\n",
              "    <tr>\n",
              "      <th>3999997</th>\n",
              "      <td>وردة بشري فصيحة</td>\n",
              "      <td>0</td>\n",
              "    </tr>\n",
              "    <tr>\n",
              "      <th>3999998</th>\n",
              "      <td>رضوان منذر رافية</td>\n",
              "      <td>0</td>\n",
              "    </tr>\n",
              "    <tr>\n",
              "      <th>3999999</th>\n",
              "      <td>أحلام سري صابرة</td>\n",
              "      <td>0</td>\n",
              "    </tr>\n",
              "  </tbody>\n",
              "</table>\n",
              "<p>4000000 rows × 2 columns</p>\n",
              "</div>"
            ],
            "text/plain": [
              "                     name  correct\n",
              "0         أنسام كاظم عراد        1\n",
              "1        عدنان عتابة غياث        1\n",
              "2          نجاد فلوح باسط        1\n",
              "3         سبيعة زاكي ميار        1\n",
              "4           عزة لطيف عراب        1\n",
              "...                   ...      ...\n",
              "3999995   أكرم فاتك طامحة        0\n",
              "3999996   كرم صمصام أسماء        0\n",
              "3999997   وردة بشري فصيحة        0\n",
              "3999998  رضوان منذر رافية        0\n",
              "3999999   أحلام سري صابرة        0\n",
              "\n",
              "[4000000 rows x 2 columns]"
            ]
          },
          "execution_count": 53,
          "metadata": {},
          "output_type": "execute_result"
        }
      ],
      "source": [
        "data"
      ]
    },
    {
      "cell_type": "markdown",
      "metadata": {
        "id": "N3l_WAE2K_Y5"
      },
      "source": [
        "The data consist of 4 million names let's check if there are duplicate data"
      ]
    },
    {
      "cell_type": "code",
      "execution_count": null,
      "metadata": {
        "id": "pOQ-x97T0e0N",
        "outputId": "5de554ab-b1e2-4870-aeb7-ebd63ad085b2"
      },
      "outputs": [
        {
          "name": "stdout",
          "output_type": "stream",
          "text": [
            "Number of duplicated rows:  1668\n"
          ]
        }
      ],
      "source": [
        "print(\"Number of duplicated rows: \", len(data[data.duplicated() == True]))"
      ]
    },
    {
      "cell_type": "markdown",
      "metadata": {
        "id": "MgVAXbzq0e0N"
      },
      "source": [
        "OK let's drop these duplicate rows from generated data"
      ]
    },
    {
      "cell_type": "code",
      "execution_count": null,
      "metadata": {
        "id": "OvdNVsGb0e0N"
      },
      "outputs": [],
      "source": [
        "data = preprocess.delete_duplicated_raws(data)"
      ]
    },
    {
      "cell_type": "code",
      "execution_count": null,
      "metadata": {
        "id": "ggrLNNvp0e0O",
        "outputId": "73430fc6-f6bc-4231-e278-2c5a4d5301bf"
      },
      "outputs": [
        {
          "name": "stdout",
          "output_type": "stream",
          "text": [
            "Number of duplicated rows:  0\n"
          ]
        }
      ],
      "source": [
        "print(\"Number of duplicated rows: \", len(data[data.duplicated() == True]))"
      ]
    },
    {
      "cell_type": "markdown",
      "metadata": {
        "id": "JuvlJmK8K_Y5"
      },
      "source": [
        "#### 3.3 Save data"
      ]
    },
    {
      "cell_type": "code",
      "execution_count": null,
      "metadata": {
        "id": "4ycC05zAK_Y5"
      },
      "outputs": [],
      "source": [
        "data.to_csv('../data/processed/final_data.csv', index=False)"
      ]
    },
    {
      "cell_type": "markdown",
      "metadata": {
        "id": "qRV2TzPgK_Y6"
      },
      "source": [
        "## 4. Modeling"
      ]
    },
    {
      "cell_type": "markdown",
      "metadata": {
        "id": "5Kk4euaDK_Y6"
      },
      "source": [
        "### 4.1. Data Preprocessing "
      ]
    },
    {
      "cell_type": "markdown",
      "metadata": {
        "id": "-sQUhgC4K_Y6"
      },
      "source": [
        "I will tokenize the names \"map chars to numbers\", the names consist of sequences of numbers each number represents a char"
      ]
    },
    {
      "cell_type": "markdown",
      "metadata": {
        "id": "x4AxsRjpK_Y7"
      },
      "source": [
        "#### 4.1.1 split data\n"
      ]
    },
    {
      "cell_type": "code",
      "execution_count": null,
      "metadata": {
        "id": "rHfEjz4FK_Y6"
      },
      "outputs": [],
      "source": [
        "# load data\n",
        "data = pd.read_csv('../data/processed/final_data.csv')"
      ]
    },
    {
      "cell_type": "code",
      "execution_count": null,
      "metadata": {
        "id": "Q3FgXIJxK_Y6"
      },
      "outputs": [],
      "source": [
        "tokenizer = Tokenizer()\n",
        "\n",
        "names, labels = data['name'], data['correct']"
      ]
    },
    {
      "cell_type": "code",
      "execution_count": null,
      "metadata": {
        "id": "T0xBBr48K_Y6"
      },
      "outputs": [],
      "source": [
        "train_sentences, valid_test_sentences, train_labels, valid_test_labels = train_test_split(names,\n",
        "                                                                                          labels,\n",
        "                                                                                          test_size = 0.05,\n",
        "                                                                                          random_state = 42)\n",
        "\n",
        "\n",
        "valid_sentences, test_sentences, valid_labels, test_labels = train_test_split(valid_test_sentences,\n",
        "                                                                              valid_test_labels,\n",
        "                                                                              test_size = 0.5,\n",
        "                                                                              random_state = 42)"
      ]
    },
    {
      "cell_type": "code",
      "execution_count": null,
      "metadata": {
        "id": "hsE3N2q60e0Q",
        "outputId": "f6b07609-665f-4351-c2cb-4730d97db456"
      },
      "outputs": [
        {
          "name": "stdout",
          "output_type": "stream",
          "text": [
            "Training   set size:  3798415\n",
            "Validation set size:  99958\n",
            "Testing    set size:  99958\n"
          ]
        }
      ],
      "source": [
        "print(\"Training   set size: \", len(train_sentences))\n",
        "print(\"Validation set size: \", len(valid_sentences))\n",
        "print(\"Testing    set size: \", len(valid_sentences))"
      ]
    },
    {
      "cell_type": "markdown",
      "metadata": {},
      "source": [
        "#### 4.1.2 Tokenizing the data"
      ]
    },
    {
      "cell_type": "code",
      "execution_count": null,
      "metadata": {
        "id": "OuK7qMaYK_Y7"
      },
      "outputs": [],
      "source": [
        "train_sequences = tokenizer.texts_to_sequences(train_sentences)\n",
        "valid_sequences = tokenizer.texts_to_sequences(valid_sentences)\n",
        "test_sequences  = tokenizer.texts_to_sequences( test_sentences)"
      ]
    },
    {
      "cell_type": "code",
      "execution_count": null,
      "metadata": {
        "id": "OigNU1iJK_Y7",
        "outputId": "f97bed21-8370-437e-c15e-075e37cbb960"
      },
      "outputs": [
        {
          "data": {
            "text/plain": [
              "31"
            ]
          },
          "execution_count": 63,
          "metadata": {},
          "output_type": "execute_result"
        }
      ],
      "source": [
        "max_len = tokenizer.get_max_len()\n",
        "max_len"
      ]
    },
    {
      "cell_type": "code",
      "execution_count": null,
      "metadata": {
        "id": "sEJOrZQqK_Y7",
        "outputId": "0b2a1223-5c34-4c01-dafc-86753b0ff809"
      },
      "outputs": [
        {
          "data": {
            "text/plain": [
              "33"
            ]
          },
          "execution_count": 64,
          "metadata": {},
          "output_type": "execute_result"
        }
      ],
      "source": [
        "total_letters = max(tokenizer.map.values()) + 1\n",
        "total_letters"
      ]
    },
    {
      "cell_type": "code",
      "execution_count": null,
      "metadata": {
        "id": "kxswclEQK_Y7"
      },
      "outputs": [],
      "source": [
        "# padded sequences\n",
        "train_padded = tokenizer.pad_sequences(train_sequences, max_len)\n",
        "valid_padded = tokenizer.pad_sequences(valid_sequences, max_len)\n",
        "test_padded  = tokenizer.pad_sequences( test_sequences, max_len)  "
      ]
    },
    {
      "cell_type": "code",
      "execution_count": null,
      "metadata": {
        "id": "ohHPXhMtK_Y8",
        "outputId": "c26fd4f2-4ffc-4971-eeea-7f83ffa01303"
      },
      "outputs": [
        {
          "name": "stdout",
          "output_type": "stream",
          "text": [
            "[24, 25, 9, 13, 32, 1, 8, 28, 6, 32, 18, 8, 27, 1, 26, 0, 0, 0, 0, 0, 0, 0, 0, 0, 0, 0, 0, 0, 0, 0, 0]\n",
            "[1, 23, 5, 27, 10, 28, 32, 19, 11, 27, 1, 25, 32, 24, 27, 26, 27, 2, 0, 0, 0, 0, 0, 0, 0, 0, 0, 0, 0, 0, 0]\n",
            "[1, 5, 28, 8, 32, 18, 13, 28, 10, 32, 23, 24, 28, 1, 30, 0, 0, 0, 0, 0, 0, 0, 0, 0, 0, 0, 0, 0, 0, 0, 0]\n"
          ]
        }
      ],
      "source": [
        "print(train_padded[0])\n",
        "print(valid_padded[0])\n",
        "print( test_padded[0])\n"
      ]
    },
    {
      "cell_type": "markdown",
      "metadata": {
        "id": "lnNYI50bK_Y8"
      },
      "source": [
        "Now the data ready for training, let's save it!"
      ]
    },
    {
      "cell_type": "markdown",
      "metadata": {},
      "source": [
        "#### 4.1.3 Save the data"
      ]
    },
    {
      "cell_type": "code",
      "execution_count": null,
      "metadata": {
        "id": "128HozsnK_Y8",
        "outputId": "67a7c282-c10d-4590-ca83-a4fe276c3e53"
      },
      "outputs": [
        {
          "data": {
            "text/plain": [
              "['../data/processed/test_labels.pkl']"
            ]
          },
          "execution_count": 67,
          "metadata": {},
          "output_type": "execute_result"
        }
      ],
      "source": [
        "joblib.dump(train_padded, \"../data/processed/train_padded.pkl\")\n",
        "joblib.dump(valid_padded, \"../data/processed/valid_padded.pkl\")\n",
        "joblib.dump(test_padded , \"../data/processed/test_padded.pkl\" )\n",
        "\n",
        "joblib.dump(train_labels, \"../data/processed/train_labels.pkl\")\n",
        "joblib.dump(valid_labels, \"../data/processed/valid_labels.pkl\")\n",
        "joblib.dump(test_labels , \"../data/processed/test_labels.pkl\" )"
      ]
    },
    {
      "cell_type": "markdown",
      "metadata": {
        "id": "HpLmatewK_Y8"
      },
      "source": [
        "### 4.2. Training"
      ]
    },
    {
      "cell_type": "markdown",
      "metadata": {
        "id": "UJ1R9xH1LxKU"
      },
      "source": [
        "#### 4.2.1 Load Data"
      ]
    },
    {
      "cell_type": "code",
      "execution_count": 5,
      "metadata": {
        "id": "kxxAFH2CL1EG"
      },
      "outputs": [],
      "source": [
        "train_padded = joblib.load(\"../data/processed/train_padded.pkl\")\n",
        "valid_padded = joblib.load(\"../data/processed/valid_padded.pkl\")\n",
        "train_labels = joblib.load(\"../data/processed/train_labels.pkl\")\n",
        "valid_labels = joblib.load(\"../data/processed/valid_labels.pkl\")"
      ]
    },
    {
      "cell_type": "markdown",
      "metadata": {
        "id": "h8NXHUBl0e0V"
      },
      "source": [
        "#### 4.2.2 Train the model"
      ]
    },
    {
      "cell_type": "code",
      "execution_count": 6,
      "metadata": {
        "id": "zrOAxJf4K_Y8"
      },
      "outputs": [],
      "source": [
        "model = VerificationModel(total_letters)"
      ]
    },
    {
      "cell_type": "code",
      "execution_count": 7,
      "metadata": {
        "id": "TV0k1wtIM4vl"
      },
      "outputs": [],
      "source": [
        "# Callbacks\n",
        "detect_over_fitting = DetectOverFitting(1.3)                 # detect overfitting if val_loss / loss > 1.3\n",
        "detect_no_improving = EarlyStopping(patience=3,\n",
        "                                    monitor='val_loss',\n",
        "                                    restore_best_weights=True,\n",
        "                                    verbose=1)               # if there is no improving for 3 epochs stop training and restore best weigths\n",
        "\n",
        "logger = CSVLogger(\"tarining.csv\")                           # log training results into csv file"
      ]
    },
    {
      "cell_type": "code",
      "execution_count": 8,
      "metadata": {
        "id": "3AthebfZK_Y8"
      },
      "outputs": [],
      "source": [
        "model.compile(\n",
        "    loss='binary_crossentropy',\n",
        "    optimizer='adam',\n",
        "    metrics=['accuracy'],\n",
        ")"
      ]
    },
    {
      "cell_type": "code",
      "execution_count": 9,
      "metadata": {
        "colab": {
          "base_uri": "https://localhost:8080/"
        },
        "id": "GrkWxlVKK_Y9",
        "outputId": "97577fdd-9b43-412d-a610-3369bfb04739"
      },
      "outputs": [
        {
          "name": "stdout",
          "output_type": "stream",
          "text": [
            "Epoch 1/15\n",
            "118696/118701 [============================>.] - ETA: 0s - loss: 0.1220 - accuracy: 0.9518Epoch: 0, val/train loss ratio: 0.148427\n",
            "118701/118701 [==============================] - 885s 7ms/step - loss: 0.1220 - accuracy: 0.9518 - val_loss: 0.0181 - val_accuracy: 0.9952\n",
            "Epoch 2/15\n",
            "118700/118701 [============================>.] - ETA: 0s - loss: 0.0149 - accuracy: 0.9964Epoch: 1, val/train loss ratio: 0.926725\n",
            "118701/118701 [==============================] - 863s 7ms/step - loss: 0.0149 - accuracy: 0.9964 - val_loss: 0.0138 - val_accuracy: 0.9964\n",
            "Epoch 3/15\n",
            "118699/118701 [============================>.] - ETA: 0s - loss: 0.0093 - accuracy: 0.9979Epoch: 2, val/train loss ratio: 0.880163\n",
            "118701/118701 [==============================] - 862s 7ms/step - loss: 0.0093 - accuracy: 0.9979 - val_loss: 0.0082 - val_accuracy: 0.9980\n",
            "Epoch 4/15\n",
            "118700/118701 [============================>.] - ETA: 0s - loss: 0.0074 - accuracy: 0.9984Epoch: 3, val/train loss ratio: 0.876385\n",
            "118701/118701 [==============================] - 854s 7ms/step - loss: 0.0074 - accuracy: 0.9984 - val_loss: 0.0065 - val_accuracy: 0.9987\n",
            "Epoch 5/15\n",
            "118698/118701 [============================>.] - ETA: 0s - loss: 0.0060 - accuracy: 0.9987Epoch: 4, val/train loss ratio: 1.044306\n",
            "118701/118701 [==============================] - 853s 7ms/step - loss: 0.0060 - accuracy: 0.9987 - val_loss: 0.0063 - val_accuracy: 0.9986\n",
            "Epoch 6/15\n",
            "118700/118701 [============================>.] - ETA: 0s - loss: 0.0054 - accuracy: 0.9989Epoch: 5, val/train loss ratio: 1.449690\n",
            "Stopping Training....\n",
            "118701/118701 [==============================] - 865s 7ms/step - loss: 0.0054 - accuracy: 0.9989 - val_loss: 0.0078 - val_accuracy: 0.9986\n"
          ]
        }
      ],
      "source": [
        "history = model.fit(\n",
        "    train_padded,\n",
        "    list(train_labels),\n",
        "    epochs=15,\n",
        "    validation_data=(valid_padded, list(valid_labels)),\n",
        "    verbose = 1,\n",
        "    callbacks=[detect_over_fitting, detect_no_improving, logger]\n",
        ")"
      ]
    },
    {
      "cell_type": "markdown",
      "metadata": {
        "id": "3x-IqiFwK_Y9"
      },
      "source": [
        "#### 4.2.3 Save model"
      ]
    },
    {
      "cell_type": "code",
      "execution_count": null,
      "metadata": {},
      "outputs": [],
      "source": [
        "joblib.dump(model, \"../models/model_v3.pkl\")\n",
        "joblib.dump(history, \"../models/history_v3.pkl\")"
      ]
    },
    {
      "cell_type": "markdown",
      "metadata": {
        "id": "jAxLulrR0e0W"
      },
      "source": [
        "### 4.3. Evaluation"
      ]
    },
    {
      "cell_type": "markdown",
      "metadata": {
        "id": "nPLlN2GE0e0W"
      },
      "source": [
        "#### 4.3.1 Load model and testset"
      ]
    },
    {
      "cell_type": "code",
      "execution_count": 5,
      "metadata": {
        "id": "1wVQk-530e0W"
      },
      "outputs": [],
      "source": [
        "test_padded = joblib.load(\"../data/processed/test_padded.pkl\")\n",
        "test_labels = joblib.load(\"../data/processed/test_labels.pkl\")\n",
        "\n",
        "model = joblib.load('../models/model_v3.pkl')\n",
        "history = joblib.load('../models/history_v3.pkl')"
      ]
    },
    {
      "cell_type": "markdown",
      "metadata": {
        "id": "23299QWm0e0X"
      },
      "source": [
        "#### 4.3.2 Evaluate"
      ]
    },
    {
      "cell_type": "code",
      "execution_count": 6,
      "metadata": {
        "id": "rnnnsUHu0e0X",
        "outputId": "67e7fab1-2801-4a37-ac3b-b158f206956e"
      },
      "outputs": [
        {
          "name": "stdout",
          "output_type": "stream",
          "text": [
            "3124/3124 [==============================] - 34s 10ms/step\n"
          ]
        }
      ],
      "source": [
        "# create evaluator\n",
        "evaluator = Evaluator(model, history, test_padded, test_labels)"
      ]
    },
    {
      "cell_type": "code",
      "execution_count": 7,
      "metadata": {
        "id": "TjipAs3E0e0X",
        "outputId": "aebf9472-9203-4ba3-cb0a-b0139bfbd2d3"
      },
      "outputs": [
        {
          "data": {
            "image/png": "[encoded data removed]",
            "text/plain": [
              "<Figure size 640x480 with 1 Axes>"
            ]
          },
          "metadata": {},
          "output_type": "display_data"
        }
      ],
      "source": [
        "evaluator.accuracy(save_fig='accuracy_v3')"
      ]
    },
    {
      "cell_type": "code",
      "execution_count": 8,
      "metadata": {
        "id": "J2Wq8x8a0e0X",
        "outputId": "31826e11-7724-4310-f09d-35bc3f2c16cf"
      },
      "outputs": [
        {
          "data": {
            "image/png": "[encoded data removed]",
            "text/plain": [
              "<Figure size 640x480 with 1 Axes>"
            ]
          },
          "metadata": {},
          "output_type": "display_data"
        }
      ],
      "source": [
        "evaluator.loss(save_fig='loss_v3')"
      ]
    },
    {
      "cell_type": "code",
      "execution_count": 9,
      "metadata": {
        "id": "85ioDOdF0e0X",
        "outputId": "61192570-99e5-44a6-e7da-a58d1c25d3a3"
      },
      "outputs": [
        {
          "data": {
            "image/png": "[encoded data removed]",
            "text/plain": [
              "<Figure size 800x800 with 2 Axes>"
            ]
          },
          "metadata": {},
          "output_type": "display_data"
        }
      ],
      "source": [
        "evaluator.confusion_matrix('confusion_matrix_v3')"
      ]
    },
    {
      "cell_type": "code",
      "execution_count": 10,
      "metadata": {
        "id": "xCX0FFRC0e0Y",
        "outputId": "5f7e3233-e1ea-48ec-922e-a2cf7c8bfc80"
      },
      "outputs": [
        {
          "name": "stdout",
          "output_type": "stream",
          "text": [
            "              precision    recall  f1-score   support\n",
            "\n",
            "           0       1.00      1.00      1.00     50061\n",
            "           1       1.00      1.00      1.00     49898\n",
            "\n",
            "    accuracy                           1.00     99959\n",
            "   macro avg       1.00      1.00      1.00     99959\n",
            "weighted avg       1.00      1.00      1.00     99959\n",
            "\n"
          ]
        }
      ],
      "source": [
        "print(evaluator.metrics_report())"
      ]
    },
    {
      "cell_type": "code",
      "execution_count": 11,
      "metadata": {
        "id": "LI1134Tj0e0Y",
        "outputId": "4fa97b92-2eb0-4d82-9174-59ae2d6f674f"
      },
      "outputs": [
        {
          "name": "stderr",
          "output_type": "stream",
          "text": [
            "100%|██████████| 99959/99959 [00:00<00:00, 1128579.98it/s]\n"
          ]
        },
        {
          "data": {
            "text/plain": [
              "['راءة مصعب حاشد',\n",
              " 'تانىن عثمان فعىن',\n",
              " 'حنال على ازن',\n",
              " 'ومى رسىم عبدالرق',\n",
              " 'امامىان رحىق امجد',\n",
              " 'نومى رشىق نذىر',\n",
              " 'دعبل عشىر تاءب',\n",
              " 'نورد قابوس جداح',\n",
              " 'نعمت زاىد رحىق',\n",
              " 'دعبل عبدالعلىم مدلج',\n",
              " 'اهداف رحىق فكرى',\n",
              " 'بارة جلىل خطىب',\n",
              " 'عبدربه رحىق كنعان',\n",
              " 'راءف رافى الىف',\n",
              " 'ابرامىم رمضال عشىر',\n",
              " 'اهل مستور هىثم',\n",
              " 'امجى حصباح مىمون',\n",
              " 'امىمة مدحة رحىق',\n",
              " 'سدن عزىز تىم',\n",
              " 'طىمان منان مهدى',\n",
              " 'راضى ثاءر فجر',\n",
              " 'رىماس اشرم ندرة',\n",
              " 'مرح بهىج رحىق',\n",
              " 'عبرالصمد عبادة وهاب',\n",
              " 'حافص اىاد كلىم',\n",
              " 'تغلىب وفىق فضىح',\n",
              " 'عقىل حجاج رحىق',\n",
              " 'مزهب منىع غصاب',\n",
              " 'اسعاف حنشل انعم',\n",
              " 'ىاسمىن عامر مبارك',\n",
              " 'دعبل ناصر مفتاح',\n",
              " 'عدا سارى ضاهد',\n",
              " 'لهىرة سمىع زاخر',\n",
              " 'رولا رحىق رجاء',\n",
              " 'مباره سارح منىع',\n",
              " 'انغام رحىق مدىد',\n",
              " 'اظهار بال جامع',\n",
              " 'داكا حطاء غفار',\n",
              " 'ضىة عرفة اشىم',\n",
              " 'هاءه ساءد فخرى',\n",
              " 'دعبل كثىر تركى',\n",
              " 'دعبل عىاش شافع',\n",
              " 'وءوف عبدالباقى لىث',\n",
              " 'راجح جبال جبلة',\n",
              " 'روىشد جازم عاءذ',\n",
              " 'راتبة غرىب رحىق',\n",
              " 'اهاب رحىق غطاس',\n",
              " 'باسق رحىق نشات',\n",
              " 'عبدالعزىز راجى عثمان',\n",
              " 'عاءشة ناجح فتوح',\n",
              " 'شهد رحىق شوكت',\n",
              " 'طامن ساجد ولىف',\n",
              " 'مقرن رحىق راضى',\n",
              " 'منوف عدوى طامم',\n",
              " 'ىاسمىن عرفات فاخر',\n",
              " 'رشاد رحىق مكىن',\n",
              " 'خلفوى رمزى محمود',\n",
              " 'سلطىن سعدون جراج',\n",
              " 'رجاء نجدة رحىق',\n",
              " 'الىف فالح خلف',\n",
              " 'مطاع رحىق مبارك',\n",
              " 'رقىة بادى مخلص',\n",
              " 'جبور رحىق فرىز',\n",
              " 'درىد كلىب عبدالغفور',\n",
              " 'نافر سامر فلىح',\n",
              " 'ىاسمىن عبدالجبار توفىق',\n",
              " 'عقبة جرىل هادى',\n",
              " 'عىضة رحىق رضا',\n",
              " 'ربى جاءد مهند',\n",
              " 'تىحة رمزحة علىوة',\n",
              " 'صهىب باسل اشرف',\n",
              " 'مسشعدة حجاج ضىغم',\n",
              " 'ىاسمىن جلال عكاشة',\n",
              " 'هانى شبل وسلام',\n",
              " 'رفاعة رحىق كنان',\n",
              " 'نورى رحىق صفوان',\n",
              " 'باسطة رضوان فادن',\n",
              " 'سمراء ضىمء صباح',\n",
              " 'سلوى نعمت رحىق',\n",
              " 'قامون جابع اسعد',\n",
              " 'صرىبة سامى اشجع',\n",
              " 'استر مصدق عونت',\n",
              " 'منعم كلىب مودود',\n",
              " 'رعمة حاوود منتضر',\n",
              " 'فتاح عبدالخالق رحىق',\n",
              " 'روىشد ركىن سلام',\n",
              " 'رىان عبدالرب راحىل',\n",
              " 'نزىغة معىن امجد',\n",
              " 'ندىم قادر عبدولفتاح',\n",
              " 'سعاد رحىق عبدالله',\n",
              " 'مخلز نافر ناجح',\n",
              " 'امامنان قسم سىف',\n",
              " 'ىاسمىن عنترة عدى',\n",
              " 'بحرىة شاكر رحىق',\n",
              " 'تاءلة سداد مثاب',\n",
              " 'نقم كاظم ولىد',\n",
              " 'جورة شارى غنادة',\n",
              " 'حفص رحىق عبدالرشىد',\n",
              " 'ىاسمىن عبدالعلىم دحام',\n",
              " 'درىد فوزى غصاب',\n",
              " 'نىود عبود خرثمة',\n",
              " 'خماضر سعد عبد-الحوىن',\n",
              " 'اىباء شداع فرحان',\n",
              " 'حااس موهوم قتىبة',\n",
              " 'رزىنة مثاب رحىق',\n",
              " 'رافع كعب ملحم',\n",
              " 'ودىل ناصىر عبىدة',\n",
              " 'رىال كاةب سلمة',\n",
              " 'طىاء ىحىى ولىد',\n",
              " 'رزىدة جىبة جازب',\n",
              " 'مجىبة اسامة رحىق',\n",
              " 'عدىل نصىر رحىق',\n",
              " 'عدابة سرود عد',\n",
              " 'اىن عبدالجسار عبدالعزىز',\n",
              " 'منىر عبدالرقىم غانم',\n",
              " 'بدد ساجع حجاج',\n",
              " 'قىىم فرزى مججبى',\n",
              " 'فلىة بسام فرث',\n",
              " 'بشاره نامى حىدة',\n",
              " 'ىاسمىن فكرت رشاد',\n",
              " 'مبروكة زغلول رحىق',\n",
              " 'دنى عبدالدى وسام',\n",
              " 'مولصة بدد رسىم',\n",
              " 'امىنة هاشم رحىق',\n",
              " 'الخضر انمار رحىق',\n",
              " 'اهدة وارف شادى',\n",
              " 'اغلب ممدوح رحىق',\n",
              " 'عسنى جودة بكرى',\n",
              " 'سافى جعفر ماشد',\n",
              " 'دنىا رحىق محبوب',\n",
              " 'ىاسمىن اىاد سىد',\n",
              " 'بارضة اعسر امىن',\n",
              " 'امىنة رحىق فىضى',\n",
              " 'دعبل عونى راجى',\n",
              " 'راءض رىاس عدل',\n",
              " 'خاتم عون رحىق',\n",
              " 'مرشد فرىج فازى',\n",
              " 'دارىن رحىق سىد',\n",
              " 'اسغم رهىف مرقوق',\n",
              " 'نجىة معلوز ضىان',\n",
              " 'كثىر عبدالعلىم زاهد']"
            ]
          },
          "execution_count": 11,
          "metadata": {},
          "output_type": "execute_result"
        }
      ],
      "source": [
        "evaluator.get_missclassified_examples()"
      ]
    }
  ],
  "metadata": {
    "accelerator": "GPU",
    "colab": {
      "provenance": []
    },
    "gpuClass": "standard",
    "kernelspec": {
      "display_name": "Python 3.10.6 64-bit",
      "language": "python",
      "name": "python3"
    },
    "language_info": {
      "codemirror_mode": {
        "name": "ipython",
        "version": 3
      },
      "file_extension": ".py",
      "mimetype": "text/x-python",
      "name": "python",
      "nbconvert_exporter": "python",
      "pygments_lexer": "ipython3",
      "version": "3.10.6"
    },
    "orig_nbformat": 4,
    "vscode": {
      "interpreter": {
        "hash": "916dbcbb3f70747c44a77c7bcd40155683ae19c65e1c03b4aa3499c5328201f1"
      }
    }
  },
  "nbformat": 4,
  "nbformat_minor": 0
}
